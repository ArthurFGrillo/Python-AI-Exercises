{
  "cells": [
    {
      "cell_type": "markdown",
      "metadata": {
        "id": "oJi8XRwODZFZ"
      },
      "source": [
        "# Importing Data"
      ]
    },
    {
      "cell_type": "code",
      "execution_count": 1,
      "metadata": {
        "id": "k5R8deFQDohS"
      },
      "outputs": [],
      "source": [
        "import numpy as np\n",
        "import matplotlib.pyplot as plt\n",
        "\n",
        "from sklearn.datasets import load_digits\n",
        "from sklearn.linear_model import LogisticRegression\n",
        "\n",
        "from sklearn.cluster import KMeans\n",
        "from sklearn.cluster import AgglomerativeClustering"
      ]
    },
    {
      "cell_type": "code",
      "execution_count": 2,
      "metadata": {
        "id": "SS3bwyxXxEPh"
      },
      "outputs": [],
      "source": [
        "# Load Dataset\n",
        "X_digits, y_digits = load_digits(return_X_y=True)\n",
        "X_train, y_train = X_digits[:1400], y_digits[:1400]\n",
        "X_test, y_test = X_digits[1400:], y_digits[1400:]"
      ]
    },
    {
      "cell_type": "code",
      "execution_count": 3,
      "metadata": {
        "colab": {
          "base_uri": "https://localhost:8080/",
          "height": 430
        },
        "id": "1X63uQrD2IUI",
        "outputId": "ebbad10b-2810-4a42-db25-0ff4f65f45d9"
      },
      "outputs": [
        {
          "data": {
            "image/png": "[encoded data removed]",
            "text/plain": [
              "<Figure size 640x480 with 1 Axes>"
            ]
          },
          "metadata": {},
          "output_type": "display_data"
        }
      ],
      "source": [
        "# Show single digit\n",
        "plt.imshow(X_train[25].reshape(8,8), cmap='binary')\n",
        "plt.show()"
      ]
    },
    {
      "cell_type": "markdown",
      "metadata": {
        "id": "1JoqHkZiGcpT"
      },
      "source": [
        "# Clustering stage"
      ]
    },
    {
      "cell_type": "markdown",
      "metadata": {
        "id": "AaIADQqfD5y4"
      },
      "source": [
        "### KMeans"
      ]
    },
    {
      "cell_type": "code",
      "execution_count": 4,
      "metadata": {
        "id": "poBt6zOb3WVy"
      },
      "outputs": [],
      "source": [
        "# Create KMeans cluster object\n",
        "k_num_clusters = 50\n",
        "kmeans = KMeans(n_clusters=k_num_clusters, n_init=\"auto\", random_state=42)\n",
        "\n",
        "# Group similar digits into clusters\n",
        "K_X_digits_dist = kmeans.fit_transform(X_train)\n",
        "\n",
        "# Fit the Agglomerative Clustering model to X_train\n",
        "K_cluster_labels = kmeans.labels_\n",
        "\n",
        "# Get the index of the closest digit to the center of each cluster\n",
        "K_representative_digits_idx = K_X_digits_dist.argmin(axis=0)\n",
        "\n",
        "# Store the closest digits in a separated variable\n",
        "K_X_representative_digits = X_train[K_representative_digits_idx]"
      ]
    },
    {
      "cell_type": "code",
      "execution_count": 5,
      "metadata": {
        "colab": {
          "base_uri": "https://localhost:8080/",
          "height": 191
        },
        "id": "UUPG0mndEMpH",
        "outputId": "d599fa1a-868d-4fd7-f931-92ef3e6fc7a5"
      },
      "outputs": [
        {
          "data": {
            "image/png": "[encoded data removed]",
            "text/plain": [
              "<Figure size 800x200 with 50 Axes>"
            ]
          },
          "metadata": {},
          "output_type": "display_data"
        }
      ],
      "source": [
        "# Show the closest digits\n",
        "plt.figure(figsize=(8,2))\n",
        "for index, K_X_representative_digit in enumerate(K_X_representative_digits):\n",
        "  plt.subplot(k_num_clusters//10, 10, index+1)\n",
        "  plt.imshow(K_X_representative_digit.reshape(8,8), cmap='binary')\n",
        "  plt.axis(\"off\")\n",
        "plt.show()"
      ]
    },
    {
      "cell_type": "code",
      "execution_count": 6,
      "metadata": {
        "colab": {
          "base_uri": "https://localhost:8080/"
        },
        "id": "ymO9zcdJEesl",
        "outputId": "5b6bb477-84ff-4105-e4b9-0cb0e6ec93d5"
      },
      "outputs": [
        {
          "data": {
            "text/plain": [
              "array([ True,  True,  True,  True,  True,  True,  True,  True,  True,\n",
              "        True,  True,  True,  True,  True,  True,  True,  True,  True,\n",
              "        True,  True,  True,  True,  True,  True,  True,  True,  True,\n",
              "        True,  True,  True,  True,  True,  True,  True,  True,  True,\n",
              "        True,  True,  True,  True,  True,  True,  True,  True,  True,\n",
              "        True,  True,  True,  True,  True])"
            ]
          },
          "execution_count": 6,
          "metadata": {},
          "output_type": "execute_result"
        }
      ],
      "source": [
        "# Manualy label each of the 50 digits\n",
        "K_y_representative_digits = np.array([\n",
        "    1, 9, 7, 0, 1, 6, 5, 6, 2, 4,\n",
        "    3, 2, 9, 8, 5, 4, 1, 3, 8, 9,\n",
        "    8, 4, 1, 0, 7, 7, 6, 5, 9, 3,\n",
        "    4, 7, 1, 5, 1, 7, 8, 7, 9, 4,\n",
        "    8, 2, 8, 2, 5, 6, 8, 9, 2, 6\n",
        "])\n",
        "\n",
        "# Check to see if you are correct using the original labels\n",
        "K_y_representative_digits == y_train[K_representative_digits_idx]"
      ]
    },
    {
      "cell_type": "code",
      "execution_count": 7,
      "metadata": {
        "id": "7nkiI6IzE0dp"
      },
      "outputs": [],
      "source": [
        "# give each digit of a cluster the oru label of that cluster\n",
        "K_y_train_propagated = np.empty(len(X_train), dtype=np.int64)\n",
        "for i in range(k_num_clusters):\n",
        "  K_y_train_propagated[K_cluster_labels == i] = K_y_representative_digits[i]"
      ]
    },
    {
      "cell_type": "code",
      "execution_count": 8,
      "metadata": {
        "colab": {
          "base_uri": "https://localhost:8080/"
        },
        "id": "JmJQ-9ouFLlL",
        "outputId": "9803dac7-fca9-4cee-db1a-77b33b98feef"
      },
      "outputs": [
        {
          "name": "stdout",
          "output_type": "stream",
          "text": [
            "1309\n"
          ]
        }
      ],
      "source": [
        "# Remove digits on the borders of clusters\n",
        "percentile_closest = 95\n",
        "\n",
        "K_X_cluster_dist = K_X_digits_dist[np.arange(len(X_train)), K_cluster_labels]\n",
        "for i in range(k_num_clusters):\n",
        "  in_cluster = (K_cluster_labels == i)\n",
        "  cluster_dist = K_X_cluster_dist[in_cluster]\n",
        "  cutoff_distance = np.percentile(cluster_dist, percentile_closest)\n",
        "  above_cutoff = (K_X_cluster_dist > cutoff_distance)\n",
        "  K_X_cluster_dist[in_cluster & above_cutoff] = -1\n",
        "\n",
        "K_partially_propagated = (K_X_cluster_dist != -1)\n",
        "K_X_train_partially_propagated = X_train[K_partially_propagated]\n",
        "K_y_train_partially_propagated = K_y_train_propagated[K_partially_propagated]\n",
        "print(len(K_y_train_partially_propagated))"
      ]
    },
    {
      "cell_type": "code",
      "execution_count": 9,
      "metadata": {
        "colab": {
          "base_uri": "https://localhost:8080/"
        },
        "id": "L7somRWFgIs8",
        "outputId": "bd4cc443-45a2-45de-c2a7-6786e3889d99"
      },
      "outputs": [
        {
          "data": {
            "text/plain": [
              "0.959511077158136"
            ]
          },
          "execution_count": 9,
          "metadata": {},
          "output_type": "execute_result"
        }
      ],
      "source": [
        "# Percentage of digits receive the correct label\n",
        "(K_y_train_partially_propagated == y_train[K_partially_propagated]).mean()"
      ]
    },
    {
      "cell_type": "markdown",
      "metadata": {
        "id": "Mt1G_dBfD-W_"
      },
      "source": [
        "## Agglomerative Clustering"
      ]
    },
    {
      "cell_type": "code",
      "execution_count": 10,
      "metadata": {
        "id": "IpSQQthH8Ome"
      },
      "outputs": [],
      "source": [
        "# Create cluster object\n",
        "num_clusters = 50\n",
        "agg_cluster = AgglomerativeClustering(n_clusters=num_clusters, compute_distances=True)\n",
        "\n",
        "# Fit the Agglomerative Clustering model to X_train\n",
        "cluster_labels = agg_cluster.fit_predict(X_train)\n",
        "\n",
        "# Initialize a dictionary to store representative digit indexes for each cluster\n",
        "representative_digits_idx = {i: None for i in range(num_clusters)}\n",
        "\n",
        "# Initialize X_cluster_dist as a list to store distances of digits tp their centers\n",
        "X_cluster_dist = np.empty(len(X_train), dtype=np.float64)\n",
        "\n",
        "# Find the index of the closest digit to the center of each cluster\n",
        "for cluster_idx in range(num_clusters):\n",
        "    cluster_mask = (cluster_labels == cluster_idx)\n",
        "    cluster_X = X_train[cluster_mask]\n",
        "    cluster_center = cluster_X.mean(axis=0) #\n",
        "\n",
        "    distances_to_center = np.linalg.norm(cluster_X - cluster_center, axis=1)\n",
        "    cluster_indices = np.where(cluster_mask)[0]\n",
        "    X_cluster_dist[cluster_indices] = distances_to_center\n",
        "\n",
        "    center_idx = ((cluster_X - cluster_center) ** 2).sum(axis=1).argmin()\n",
        "    representative_digits_idx[cluster_idx] = np.where(cluster_mask)[0][center_idx]\n",
        "\n",
        "# Get the indexes of representative digits\n",
        "representative_digits_idx = list(representative_digits_idx.values())\n",
        "\n",
        "# Extract representative digits from X_train using representative_digits_idx\n",
        "X_representative_digits = X_train[representative_digits_idx]"
      ]
    },
    {
      "cell_type": "code",
      "execution_count": 11,
      "metadata": {
        "colab": {
          "base_uri": "https://localhost:8080/",
          "height": 191
        },
        "id": "P_7m5Zh14zO5",
        "outputId": "032a4c20-e42c-47b6-b3a9-1f236b65bedf"
      },
      "outputs": [
        {
          "data": {
            "image/png": "[encoded data removed]",
            "text/plain": [
              "<Figure size 800x200 with 50 Axes>"
            ]
          },
          "metadata": {},
          "output_type": "display_data"
        }
      ],
      "source": [
        "# Show the closest digits\n",
        "plt.figure(figsize=(8,2))\n",
        "for index, X_representative_digit in enumerate(X_representative_digits):\n",
        "  plt.subplot(num_clusters//10, 10, index+1)\n",
        "  plt.imshow(X_representative_digit.reshape(8,8), cmap='binary')\n",
        "  plt.axis(\"off\")\n",
        "plt.show()"
      ]
    },
    {
      "cell_type": "code",
      "execution_count": 12,
      "metadata": {
        "colab": {
          "base_uri": "https://localhost:8080/"
        },
        "id": "5L5J87GS5zuO",
        "outputId": "96fd2ce6-f7c3-40eb-d712-30adfe9d1e0b"
      },
      "outputs": [
        {
          "data": {
            "text/plain": [
              "array([ True,  True,  True,  True,  True,  True,  True,  True,  True,\n",
              "        True,  True,  True,  True,  True,  True,  True,  True,  True,\n",
              "        True,  True,  True,  True,  True,  True,  True,  True,  True,\n",
              "        True,  True,  True,  True,  True,  True,  True,  True,  True,\n",
              "        True,  True,  True,  True,  True,  True,  True,  True,  True,\n",
              "        True,  True,  True,  True,  True])"
            ]
          },
          "execution_count": 12,
          "metadata": {},
          "output_type": "execute_result"
        }
      ],
      "source": [
        "# Manualy label each of the 50 digits\n",
        "y_representative_digits = np.array([\n",
        "    2, 2, 5, 7, 9, 5, 2, 1, 7, 8,\n",
        "    4, 6, 5, 9, 3, 6, 2, 1, 9, 3,\n",
        "    7, 9, 9, 1, 1, 5, 4, 7, 3, 4,\n",
        "    0, 8, 3, 0, 7, 4, 6, 6, 1, 8,\n",
        "    2, 0, 6, 8, 1, 1, 4, 9, 7, 4\n",
        "])\n",
        "\n",
        "# Check to see if you are correct using the original labels\n",
        "y_representative_digits == y_train[representative_digits_idx]"
      ]
    },
    {
      "cell_type": "code",
      "execution_count": 13,
      "metadata": {
        "id": "oH307OZ57ImO"
      },
      "outputs": [],
      "source": [
        "# give each digit of a cluster the oru label of that cluster\n",
        "y_train_propagated = np.empty(len(X_train), dtype=np.int64)\n",
        "for i in range(num_clusters):\n",
        "  y_train_propagated[cluster_labels == i] = y_representative_digits[i]"
      ]
    },
    {
      "cell_type": "code",
      "execution_count": 14,
      "metadata": {
        "colab": {
          "base_uri": "https://localhost:8080/"
        },
        "id": "TFp36tDfHvLQ",
        "outputId": "0ec6ac8f-4e39-4da0-acc3-0af779b7f262"
      },
      "outputs": [
        {
          "name": "stdout",
          "output_type": "stream",
          "text": [
            "1306\n"
          ]
        }
      ],
      "source": [
        "# Remove digits on the borders of clusters\n",
        "percentile_closest = 95\n",
        "\n",
        "# X_cluster_dist was already create in a previous code block\n",
        "for i in range(num_clusters):\n",
        "  in_cluster = (cluster_labels == i)\n",
        "  cluster_dist = X_cluster_dist[in_cluster]\n",
        "  cutoff_distance = np.percentile(cluster_dist, percentile_closest)\n",
        "  above_cutoff = (X_cluster_dist > cutoff_distance)\n",
        "  X_cluster_dist[in_cluster & above_cutoff] = -1\n",
        "\n",
        "partially_propagated = (X_cluster_dist != -1)\n",
        "X_train_partially_propagated = X_train[partially_propagated]\n",
        "y_train_partially_propagated = y_train_propagated[partially_propagated]\n",
        "print(len(y_train_partially_propagated))"
      ]
    },
    {
      "cell_type": "code",
      "execution_count": 15,
      "metadata": {
        "colab": {
          "base_uri": "https://localhost:8080/"
        },
        "id": "0DYDrKuvgCIi",
        "outputId": "f605923b-c285-4c99-c744-fd31772b59f7"
      },
      "outputs": [
        {
          "data": {
            "text/plain": [
              "0.9701378254211332"
            ]
          },
          "execution_count": 15,
          "metadata": {},
          "output_type": "execute_result"
        }
      ],
      "source": [
        "# Percentage of digits receive the correct label\n",
        "(y_train_partially_propagated == y_train[partially_propagated]).mean()"
      ]
    },
    {
      "cell_type": "markdown",
      "metadata": {
        "id": "ci-9IdbPfzMS"
      },
      "source": [
        "# Testing stage"
      ]
    },
    {
      "cell_type": "markdown",
      "metadata": {
        "id": "o_L4N206gPC0"
      },
      "source": [
        "### Logistic Regression with the Original Labels"
      ]
    },
    {
      "cell_type": "code",
      "execution_count": 16,
      "metadata": {
        "colab": {
          "base_uri": "https://localhost:8080/"
        },
        "id": "erRn9CG_GDgl",
        "outputId": "fe9fe04a-f68d-4bb4-e64d-d74273380732"
      },
      "outputs": [
        {
          "data": {
            "text/plain": [
              "0.7481108312342569"
            ]
          },
          "execution_count": 16,
          "metadata": {},
          "output_type": "execute_result"
        }
      ],
      "source": [
        "# Train logistic regression with the first 50 values (original labels)\n",
        "\n",
        "n_labeled = 50\n",
        "log_reg_first = LogisticRegression(max_iter=10_000)\n",
        "log_reg_first.fit(X_train[:n_labeled], y_train[:n_labeled])\n",
        "\n",
        "log_reg_first.score(X_test, y_test)"
      ]
    },
    {
      "cell_type": "code",
      "execution_count": 17,
      "metadata": {
        "colab": {
          "base_uri": "https://localhost:8080/"
        },
        "id": "XKj8ivniGDgl",
        "outputId": "b11d96eb-ef1f-40e1-9f5e-a0de2554e3b8"
      },
      "outputs": [
        {
          "data": {
            "text/plain": [
              "0.906801007556675"
            ]
          },
          "execution_count": 17,
          "metadata": {},
          "output_type": "execute_result"
        }
      ],
      "source": [
        "# Train logistic regression with only all values (original labels)\n",
        "\n",
        "log_reg_full = LogisticRegression(max_iter=10_000)\n",
        "log_reg_full.fit(X_train, y_train)\n",
        "log_reg_full.score(X_test, y_test)"
      ]
    },
    {
      "cell_type": "markdown",
      "metadata": {
        "id": "32D_xdCTfzMT"
      },
      "source": [
        "### KMeans"
      ]
    },
    {
      "cell_type": "code",
      "execution_count": 18,
      "metadata": {
        "colab": {
          "base_uri": "https://localhost:8080/"
        },
        "id": "el0SiMoaF-Zw",
        "outputId": "2ffd1443-97b0-443c-9df2-e668a05d1cf0"
      },
      "outputs": [
        {
          "data": {
            "text/plain": [
              "0.8639798488664987"
            ]
          },
          "execution_count": 18,
          "metadata": {},
          "output_type": "execute_result"
        }
      ],
      "source": [
        "# Train logistic regression with the best 50 values (our labels)\n",
        "\n",
        "log_reg_chosen = LogisticRegression(max_iter=10_000)\n",
        "log_reg_chosen.fit(K_X_representative_digits, K_y_representative_digits)\n",
        "log_reg_chosen.score(X_test, y_test)"
      ]
    },
    {
      "cell_type": "code",
      "execution_count": 19,
      "metadata": {
        "colab": {
          "base_uri": "https://localhost:8080/"
        },
        "id": "G_-q69RvGBJF",
        "outputId": "691a192a-0a0b-41be-ab35-0bf2f4eef353"
      },
      "outputs": [
        {
          "data": {
            "text/plain": [
              "0.8765743073047859"
            ]
          },
          "execution_count": 19,
          "metadata": {},
          "output_type": "execute_result"
        }
      ],
      "source": [
        "# Train logistic regression with all values (our labels, after they were propagated)\n",
        "\n",
        "log_reg_prop = LogisticRegression(max_iter=10_000)\n",
        "log_reg_prop.fit(X_train, K_y_train_propagated)\n",
        "log_reg_prop.score(X_test, y_test)"
      ]
    },
    {
      "cell_type": "code",
      "execution_count": 20,
      "metadata": {
        "colab": {
          "base_uri": "https://localhost:8080/"
        },
        "id": "kNAOuXM_GDgk",
        "outputId": "6ba24d89-426d-4a94-ff41-fa6e3dfc8c8b"
      },
      "outputs": [
        {
          "data": {
            "text/plain": [
              "0.8816120906801007"
            ]
          },
          "execution_count": 20,
          "metadata": {},
          "output_type": "execute_result"
        }
      ],
      "source": [
        "# Train logistic regression without the bad values (our labels, after they were propagated)\n",
        "\n",
        "log_reg_par_prop = LogisticRegression(max_iter=10_000)\n",
        "log_reg_par_prop.fit(K_X_train_partially_propagated, K_y_train_partially_propagated)\n",
        "log_reg_par_prop.score(X_test, y_test)"
      ]
    },
    {
      "cell_type": "markdown",
      "metadata": {
        "id": "ONXjCYlOf4mq"
      },
      "source": [
        "## Agglomerative Clustering"
      ]
    },
    {
      "cell_type": "code",
      "execution_count": 21,
      "metadata": {
        "colab": {
          "base_uri": "https://localhost:8080/"
        },
        "id": "uxtMWp6F6sc7",
        "outputId": "7027bd81-4964-428d-e3e4-a5094454c6e0"
      },
      "outputs": [
        {
          "data": {
            "text/plain": [
              "0.818639798488665"
            ]
          },
          "execution_count": 21,
          "metadata": {},
          "output_type": "execute_result"
        }
      ],
      "source": [
        "# Train logistic regression with the best 50 values (our labels)\n",
        "\n",
        "log_reg_chosen = LogisticRegression(max_iter=10_000)\n",
        "log_reg_chosen.fit(X_representative_digits, y_representative_digits)\n",
        "log_reg_chosen.score(X_test, y_test)"
      ]
    },
    {
      "cell_type": "code",
      "execution_count": 22,
      "metadata": {
        "colab": {
          "base_uri": "https://localhost:8080/"
        },
        "id": "TyCzIpx-78eo",
        "outputId": "c9018f8a-160b-4cfc-c806-252a33647198"
      },
      "outputs": [
        {
          "data": {
            "text/plain": [
              "0.8639798488664987"
            ]
          },
          "execution_count": 22,
          "metadata": {},
          "output_type": "execute_result"
        }
      ],
      "source": [
        "# Train logistic regression with all values (our labels, after they were propagated)\n",
        "\n",
        "log_reg_prop = LogisticRegression(max_iter=10_000)\n",
        "log_reg_prop.fit(X_train, y_train_propagated)\n",
        "log_reg_prop.score(X_test, y_test)"
      ]
    },
    {
      "cell_type": "code",
      "execution_count": 23,
      "metadata": {
        "colab": {
          "base_uri": "https://localhost:8080/"
        },
        "id": "FDp1NEEG-pNR",
        "outputId": "1cd13544-fafe-4360-e728-33d0c591ee5f"
      },
      "outputs": [
        {
          "data": {
            "text/plain": [
              "0.8488664987405542"
            ]
          },
          "execution_count": 23,
          "metadata": {},
          "output_type": "execute_result"
        }
      ],
      "source": [
        "# Train logistic regression without the bad values (our labels, after they were propagated)\n",
        "\n",
        "log_reg_par_prop = LogisticRegression(max_iter=10_000)\n",
        "log_reg_par_prop.fit(X_train_partially_propagated, y_train_partially_propagated)\n",
        "log_reg_par_prop.score(X_test, y_test)"
      ]
    }
  ],
  "metadata": {
    "colab": {
      "provenance": []
    },
    "kernelspec": {
      "display_name": "Python 3",
      "name": "python3"
    },
    "language_info": {
      "name": "python",
      "version": "3.11.2"
    }
  },
  "nbformat": 4,
  "nbformat_minor": 0
}
