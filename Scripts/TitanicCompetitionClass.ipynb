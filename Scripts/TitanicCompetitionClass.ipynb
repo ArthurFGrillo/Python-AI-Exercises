{
  "nbformat": 4,
  "nbformat_minor": 0,
  "metadata": {
    "colab": {
      "provenance": []
    },
    "kernelspec": {
      "name": "python3",
      "display_name": "Python 3"
    },
    "language_info": {
      "name": "python"
    }
  },
  "cells": [
    {
      "cell_type": "code",
      "execution_count": 2,
      "metadata": {
        "id": "uEjIU_f6p7eZ",
        "colab": {
          "base_uri": "https://localhost:8080/"
        },
        "outputId": "0118a88e-78d1-4448-e456-5e70a5beb1db"
      },
      "outputs": [
        {
          "output_type": "execute_result",
          "data": {
            "text/plain": [
              "PassengerId      int64\n",
              "Survived         int64\n",
              "Pclass           int64\n",
              "Name            object\n",
              "Sex             object\n",
              "Age            float64\n",
              "SibSp            int64\n",
              "Parch            int64\n",
              "Ticket          object\n",
              "Fare           float64\n",
              "Cabin           object\n",
              "Embarked        object\n",
              "dtype: object"
            ]
          },
          "metadata": {},
          "execution_count": 2
        }
      ],
      "source": [
        "import pandas as pd\n",
        "data = pd.read_csv(\"train.csv\")\n",
        "data.dtypes"
      ]
    },
    {
      "cell_type": "code",
      "source": [
        "y = data['Survived']\n",
        "y"
      ],
      "metadata": {
        "colab": {
          "base_uri": "https://localhost:8080/"
        },
        "id": "7urHkdCu_lDK",
        "outputId": "8f23de28-eed9-4372-869a-33e81b5dd1df"
      },
      "execution_count": 3,
      "outputs": [
        {
          "output_type": "execute_result",
          "data": {
            "text/plain": [
              "0      0\n",
              "1      1\n",
              "2      1\n",
              "3      1\n",
              "4      0\n",
              "      ..\n",
              "886    0\n",
              "887    1\n",
              "888    0\n",
              "889    1\n",
              "890    0\n",
              "Name: Survived, Length: 891, dtype: int64"
            ]
          },
          "metadata": {},
          "execution_count": 3
        }
      ]
    },
    {
      "cell_type": "code",
      "source": [
        "X = data.drop('Survived', axis=1)\n",
        "X.columns"
      ],
      "metadata": {
        "colab": {
          "base_uri": "https://localhost:8080/"
        },
        "id": "OZ0-SdOgACrV",
        "outputId": "9878bc87-b341-4ce3-a5c1-cf7c4beaa9ea"
      },
      "execution_count": 5,
      "outputs": [
        {
          "output_type": "execute_result",
          "data": {
            "text/plain": [
              "Index(['PassengerId', 'Pclass', 'Name', 'Sex', 'Age', 'SibSp', 'Parch',\n",
              "       'Ticket', 'Fare', 'Cabin', 'Embarked'],\n",
              "      dtype='object')"
            ]
          },
          "metadata": {},
          "execution_count": 5
        }
      ]
    },
    {
      "cell_type": "code",
      "source": [
        "for column in X.columns:\n",
        "  print(f\"{column:>12} {len(set(X[column])):4} {X[column].dtypes}\")"
      ],
      "metadata": {
        "colab": {
          "base_uri": "https://localhost:8080/"
        },
        "id": "aFKw6WKHC49L",
        "outputId": "f47b3083-3913-4317-8809-14cc2a7800ea"
      },
      "execution_count": 8,
      "outputs": [
        {
          "output_type": "stream",
          "name": "stdout",
          "text": [
            " PassengerId  891 int64\n",
            "      Pclass    3 int64\n",
            "        Name  891 object\n",
            "         Sex    2 object\n",
            "         Age  265 float64\n",
            "       SibSp    7 int64\n",
            "       Parch    7 int64\n",
            "      Ticket  681 object\n",
            "        Fare  248 float64\n",
            "       Cabin  148 object\n",
            "    Embarked    4 object\n"
          ]
        }
      ]
    },
    {
      "cell_type": "code",
      "source": [
        "indesejadas = ['PassengerId', 'Name', 'Ticket', 'Cabin']\n",
        "Xdrop = X.drop(indesejadas, axis=1)\n",
        "Xdrop.columns"
      ],
      "metadata": {
        "colab": {
          "base_uri": "https://localhost:8080/"
        },
        "id": "cccE_1D4D_rn",
        "outputId": "9509f495-804d-41d9-ad34-9cdd882738d3"
      },
      "execution_count": 9,
      "outputs": [
        {
          "output_type": "execute_result",
          "data": {
            "text/plain": [
              "Index(['Pclass', 'Sex', 'Age', 'SibSp', 'Parch', 'Fare', 'Embarked'], dtype='object')"
            ]
          },
          "metadata": {},
          "execution_count": 9
        }
      ]
    },
    {
      "cell_type": "code",
      "source": [
        "Xnum = Xdrop.select_dtypes('number')\n",
        "Xnum.columns"
      ],
      "metadata": {
        "colab": {
          "base_uri": "https://localhost:8080/"
        },
        "id": "RfqH1yddEd-V",
        "outputId": "9c16a319-b3d4-414f-a3af-a54764c6b9ec"
      },
      "execution_count": 12,
      "outputs": [
        {
          "output_type": "execute_result",
          "data": {
            "text/plain": [
              "Index(['Pclass', 'Age', 'SibSp', 'Parch', 'Fare'], dtype='object')"
            ]
          },
          "metadata": {},
          "execution_count": 12
        }
      ]
    },
    {
      "cell_type": "code",
      "source": [
        "for column in Xnum.columns:\n",
        "  print(f\"{column:>12} {sum(Xnum[column].isnull())}\")"
      ],
      "metadata": {
        "colab": {
          "base_uri": "https://localhost:8080/"
        },
        "id": "3Ix8NuVYEsOc",
        "outputId": "5e2b376c-982c-4510-8fbc-4d862b6e5979"
      },
      "execution_count": 13,
      "outputs": [
        {
          "output_type": "stream",
          "name": "stdout",
          "text": [
            "      Pclass 0\n",
            "         Age 177\n",
            "       SibSp 0\n",
            "       Parch 0\n",
            "        Fare 0\n"
          ]
        }
      ]
    },
    {
      "cell_type": "code",
      "source": [
        "from sklearn.impute import SimpleImputer\n",
        "imputer = SimpleImputer(strategy=\"median\")\n",
        "XnumLimpo = imputer.fit_transform(Xnum)\n",
        "XnumLimpo"
      ],
      "metadata": {
        "colab": {
          "base_uri": "https://localhost:8080/"
        },
        "id": "MImIh-bmFGfb",
        "outputId": "cd8690f5-9b2e-473b-9b4c-f53fd1919783"
      },
      "execution_count": 14,
      "outputs": [
        {
          "output_type": "execute_result",
          "data": {
            "text/plain": [
              "array([[ 3.    , 22.    ,  1.    ,  0.    ,  7.25  ],\n",
              "       [ 1.    , 38.    ,  1.    ,  0.    , 71.2833],\n",
              "       [ 3.    , 26.    ,  0.    ,  0.    ,  7.925 ],\n",
              "       ...,\n",
              "       [ 3.    , 28.    ,  1.    ,  2.    , 23.45  ],\n",
              "       [ 1.    , 26.    ,  0.    ,  0.    , 30.    ],\n",
              "       [ 3.    , 32.    ,  0.    ,  0.    ,  7.75  ]])"
            ]
          },
          "metadata": {},
          "execution_count": 14
        }
      ]
    },
    {
      "cell_type": "code",
      "source": [
        "Xcat = Xdrop.select_dtypes('object')\n",
        "Xcat.columns"
      ],
      "metadata": {
        "colab": {
          "base_uri": "https://localhost:8080/"
        },
        "id": "lTJDbpSNFuwF",
        "outputId": "2dbcdc41-dfab-4b5e-9e34-4789e987b301"
      },
      "execution_count": 15,
      "outputs": [
        {
          "output_type": "execute_result",
          "data": {
            "text/plain": [
              "Index(['Sex', 'Embarked'], dtype='object')"
            ]
          },
          "metadata": {},
          "execution_count": 15
        }
      ]
    },
    {
      "cell_type": "code",
      "source": [
        "for column in Xcat.columns:\n",
        "  print(f\"{column:>12} {sum(Xcat[column].isnull())}\")"
      ],
      "metadata": {
        "colab": {
          "base_uri": "https://localhost:8080/"
        },
        "id": "NL5NNFqVF9Gz",
        "outputId": "41ccd9ff-6d88-40be-cd76-ae2928c09899"
      },
      "execution_count": 16,
      "outputs": [
        {
          "output_type": "stream",
          "name": "stdout",
          "text": [
            "         Sex 0\n",
            "    Embarked 2\n"
          ]
        }
      ]
    },
    {
      "cell_type": "code",
      "source": [
        "from sklearn.impute import SimpleImputer\n",
        "imputer = SimpleImputer(strategy=\"most_frequent\")\n",
        "XcatLimpo = imputer.fit_transform(Xcat)\n",
        "XcatLimpo"
      ],
      "metadata": {
        "colab": {
          "base_uri": "https://localhost:8080/"
        },
        "id": "kVLvwOyyGHes",
        "outputId": "aef15ba0-febe-4449-f2d5-33d8c5dd6220"
      },
      "execution_count": 17,
      "outputs": [
        {
          "output_type": "execute_result",
          "data": {
            "text/plain": [
              "array([['male', 'S'],\n",
              "       ['female', 'C'],\n",
              "       ['female', 'S'],\n",
              "       ...,\n",
              "       ['female', 'S'],\n",
              "       ['male', 'C'],\n",
              "       ['male', 'Q']], dtype=object)"
            ]
          },
          "metadata": {},
          "execution_count": 17
        }
      ]
    },
    {
      "cell_type": "code",
      "source": [
        "from sklearn.preprocessing import OneHotEncoder\n",
        "encoder = OneHotEncoder()\n",
        "XcatHot = encoder.fit_transform(XcatLimpo)\n",
        "XcatHot"
      ],
      "metadata": {
        "colab": {
          "base_uri": "https://localhost:8080/"
        },
        "id": "BD5rVXGZGycL",
        "outputId": "02a62301-291c-42c1-e07a-377d9aa4ae20"
      },
      "execution_count": 18,
      "outputs": [
        {
          "output_type": "execute_result",
          "data": {
            "text/plain": [
              "<891x5 sparse matrix of type '<class 'numpy.float64'>'\n",
              "\twith 1782 stored elements in Compressed Sparse Row format>"
            ]
          },
          "metadata": {},
          "execution_count": 18
        }
      ]
    },
    {
      "cell_type": "code",
      "source": [
        "XcatHot.toarray()"
      ],
      "metadata": {
        "colab": {
          "base_uri": "https://localhost:8080/"
        },
        "id": "lcQy4vm-HX8K",
        "outputId": "883c4edc-f0bc-4a20-c9af-e8bc512c2541"
      },
      "execution_count": 20,
      "outputs": [
        {
          "output_type": "execute_result",
          "data": {
            "text/plain": [
              "array([[0., 1., 0., 0., 1.],\n",
              "       [1., 0., 1., 0., 0.],\n",
              "       [1., 0., 0., 0., 1.],\n",
              "       ...,\n",
              "       [1., 0., 0., 0., 1.],\n",
              "       [0., 1., 1., 0., 0.],\n",
              "       [0., 1., 0., 1., 0.]])"
            ]
          },
          "metadata": {},
          "execution_count": 20
        }
      ]
    },
    {
      "cell_type": "code",
      "source": [
        "import numpy as np\n",
        "Xtratado = np.c_[XnumLimpo, XcatHot.toarray()]\n",
        "Xtratado.shape"
      ],
      "metadata": {
        "colab": {
          "base_uri": "https://localhost:8080/"
        },
        "id": "ziRDDhzxHHvO",
        "outputId": "2fb186fa-573d-4084-b29b-d9ef0f9b75a4"
      },
      "execution_count": 19,
      "outputs": [
        {
          "output_type": "execute_result",
          "data": {
            "text/plain": [
              "(891, 10)"
            ]
          },
          "metadata": {},
          "execution_count": 19
        }
      ]
    },
    {
      "cell_type": "code",
      "source": [
        "Xtratado"
      ],
      "metadata": {
        "colab": {
          "base_uri": "https://localhost:8080/"
        },
        "id": "A62KWdYPHTgV",
        "outputId": "2d084f6a-4594-4c30-c9ca-24e35aa45c57"
      },
      "execution_count": 21,
      "outputs": [
        {
          "output_type": "execute_result",
          "data": {
            "text/plain": [
              "array([[ 3., 22.,  1., ...,  0.,  0.,  1.],\n",
              "       [ 1., 38.,  1., ...,  1.,  0.,  0.],\n",
              "       [ 3., 26.,  0., ...,  0.,  0.,  1.],\n",
              "       ...,\n",
              "       [ 3., 28.,  1., ...,  0.,  0.,  1.],\n",
              "       [ 1., 26.,  0., ...,  1.,  0.,  0.],\n",
              "       [ 3., 32.,  0., ...,  0.,  1.,  0.]])"
            ]
          },
          "metadata": {},
          "execution_count": 21
        }
      ]
    },
    {
      "cell_type": "code",
      "source": [
        "import pandas as pd\n",
        "train = pd.read_csv('train.csv')\n",
        "test = pd.read_csv('test.csv')\n",
        "train.columns.isin(test.columns)"
      ],
      "metadata": {
        "colab": {
          "base_uri": "https://localhost:8080/"
        },
        "id": "rf5xYyoRHuON",
        "outputId": "499af4bc-4c12-4bd9-adbb-2a6ae134a5f1"
      },
      "execution_count": 22,
      "outputs": [
        {
          "output_type": "execute_result",
          "data": {
            "text/plain": [
              "array([ True, False,  True,  True,  True,  True,  True,  True,  True,\n",
              "        True,  True,  True])"
            ]
          },
          "metadata": {},
          "execution_count": 22
        }
      ]
    },
    {
      "cell_type": "code",
      "source": [
        "from sklearn.base import BaseEstimator, TransformerMixin\n",
        "\n",
        "class AtributosDesejados(BaseEstimator, TransformerMixin):\n",
        "  def fit(self, X, y=None):\n",
        "    self.colunasIndesejadas_ = ['PassengerId', 'Name', 'Ticket', 'Cabin']\n",
        "    return self\n",
        "  def transform(self, X, v=None):\n",
        "    return X.drop(self.colunasIndesejadas_, axis=1)\n",
        "\n",
        "atributosDesejados = AtributosDesejados()\n",
        "Xdrop = atributosDesejados.fit_transform(X)\n",
        "Xdrop.columns"
      ],
      "metadata": {
        "colab": {
          "base_uri": "https://localhost:8080/"
        },
        "id": "dxYBc5arIGaG",
        "outputId": "5e3bbf49-4291-4bd6-b447-47ddb360f0dc"
      },
      "execution_count": 23,
      "outputs": [
        {
          "output_type": "execute_result",
          "data": {
            "text/plain": [
              "Index(['Pclass', 'Sex', 'Age', 'SibSp', 'Parch', 'Fare', 'Embarked'], dtype='object')"
            ]
          },
          "metadata": {},
          "execution_count": 23
        }
      ]
    },
    {
      "cell_type": "code",
      "source": [
        "from sklearn.base import BaseEstimator, TransformerMixin\n",
        "\n",
        "class AtributosNumericos(BaseEstimator, TransformerMixin):\n",
        "  def fit(self, X, y=None):\n",
        "    self.colunasNumericas = X.select_dtypes(include='number').columns\n",
        "    return self\n",
        "  def transform(self, X, y=None):\n",
        "    return X[self.colunasNumericas]\n",
        "\n",
        "atributosNumericos = AtributosNumericos()\n",
        "Xnum = atributosNumericos.fit_transform(Xdrop)\n",
        "Xnum.columns"
      ],
      "metadata": {
        "colab": {
          "base_uri": "https://localhost:8080/"
        },
        "id": "ccghEGpvJxVq",
        "outputId": "695cca20-3e75-4ce1-8778-d17b99fa9081"
      },
      "execution_count": 26,
      "outputs": [
        {
          "output_type": "execute_result",
          "data": {
            "text/plain": [
              "Index(['Pclass', 'Age', 'SibSp', 'Parch', 'Fare'], dtype='object')"
            ]
          },
          "metadata": {},
          "execution_count": 26
        }
      ]
    },
    {
      "cell_type": "code",
      "source": [
        "from sklearn.pipeline import Pipeline\n",
        "from sklearn.impute import SimpleImputer\n",
        "from sklearn.preprocessing import StandardScaler\n",
        "\n",
        "pipenum = Pipeline([\n",
        "    ('atributos_numericos', AtributosNumericos()),\n",
        "    ('imputer', SimpleImputer(strategy=\"median\")),\n",
        "    ('scaler', StandardScaler())\n",
        "])\n",
        "\n",
        "XnumLimpo = pipenum.fit_transform(Xdrop)\n",
        "XnumLimpo"
      ],
      "metadata": {
        "colab": {
          "base_uri": "https://localhost:8080/"
        },
        "id": "AGwDlmOYK3JM",
        "outputId": "8e2a0e33-8572-40b1-e488-475288ee4054"
      },
      "execution_count": 27,
      "outputs": [
        {
          "output_type": "execute_result",
          "data": {
            "text/plain": [
              "array([[ 0.82737724, -0.56573646,  0.43279337, -0.47367361, -0.50244517],\n",
              "       [-1.56610693,  0.66386103,  0.43279337, -0.47367361,  0.78684529],\n",
              "       [ 0.82737724, -0.25833709, -0.4745452 , -0.47367361, -0.48885426],\n",
              "       ...,\n",
              "       [ 0.82737724, -0.1046374 ,  0.43279337,  2.00893337, -0.17626324],\n",
              "       [-1.56610693, -0.25833709, -0.4745452 , -0.47367361, -0.04438104],\n",
              "       [ 0.82737724,  0.20276197, -0.4745452 , -0.47367361, -0.49237783]])"
            ]
          },
          "metadata": {},
          "execution_count": 27
        }
      ]
    },
    {
      "cell_type": "code",
      "source": [
        "from sklearn.base import BaseEstimator, TransformerMixin\n",
        "\n",
        "class AtributosCategoricos(BaseEstimator, TransformerMixin):\n",
        "  def fit(self, X, y=None):\n",
        "    self.colunasCategoricas = X.select_dtypes(include='object').columns\n",
        "    return self\n",
        "  def transform(self, X, y=None):\n",
        "    return X[self.colunasCategoricas]\n",
        "\n",
        "atributosCategoricos = AtributosCategoricos()\n",
        "Xcat = atributosCategoricos.fit_transform(Xdrop)\n",
        "Xcat.columns"
      ],
      "metadata": {
        "colab": {
          "base_uri": "https://localhost:8080/"
        },
        "id": "3R8BpDuaMC_y",
        "outputId": "af06a185-3552-4a15-e157-6b4bd3a828c6"
      },
      "execution_count": 28,
      "outputs": [
        {
          "output_type": "execute_result",
          "data": {
            "text/plain": [
              "Index(['Sex', 'Embarked'], dtype='object')"
            ]
          },
          "metadata": {},
          "execution_count": 28
        }
      ]
    },
    {
      "cell_type": "code",
      "source": [
        "from sklearn.pipeline import Pipeline\n",
        "from sklearn.impute import SimpleImputer\n",
        "from sklearn.preprocessing import OneHotEncoder\n",
        "\n",
        "pipecat = Pipeline([\n",
        "    ('atributos_categoricos', AtributosCategoricos()),\n",
        "    ('imputer', SimpleImputer(strategy=\"most_frequent\")),\n",
        "    ('encoder', OneHotEncoder())\n",
        "])\n",
        "\n",
        "XcatLimpo = pipecat.fit_transform(Xdrop)\n",
        "XcatLimpo.toarray()"
      ],
      "metadata": {
        "colab": {
          "base_uri": "https://localhost:8080/"
        },
        "id": "utDMwk7BMr3H",
        "outputId": "35b9cf2b-e62a-4dfa-94ac-34c321270f06"
      },
      "execution_count": 30,
      "outputs": [
        {
          "output_type": "execute_result",
          "data": {
            "text/plain": [
              "array([[0., 1., 0., 0., 1.],\n",
              "       [1., 0., 1., 0., 0.],\n",
              "       [1., 0., 0., 0., 1.],\n",
              "       ...,\n",
              "       [1., 0., 0., 0., 1.],\n",
              "       [0., 1., 1., 0., 0.],\n",
              "       [0., 1., 0., 1., 0.]])"
            ]
          },
          "metadata": {},
          "execution_count": 30
        }
      ]
    },
    {
      "cell_type": "code",
      "source": [
        "from sklearn.pipeline import FeatureUnion\n",
        "\n",
        "unecaracteristicas = FeatureUnion([\n",
        "    ('pipenum', pipenum),\n",
        "    ('pipecat', pipecat)\n",
        "])\n",
        "\n",
        "Xtratado = unecaracteristicas.fit_transform(Xdrop)\n",
        "Xtratado.toarray()"
      ],
      "metadata": {
        "colab": {
          "base_uri": "https://localhost:8080/"
        },
        "id": "Xd8GCR1-NH7f",
        "outputId": "7a3f31fc-5a42-41c9-adda-e6fc4335586c"
      },
      "execution_count": 32,
      "outputs": [
        {
          "output_type": "execute_result",
          "data": {
            "text/plain": [
              "array([[ 0.82737724, -0.56573646,  0.43279337, ...,  0.        ,\n",
              "         0.        ,  1.        ],\n",
              "       [-1.56610693,  0.66386103,  0.43279337, ...,  1.        ,\n",
              "         0.        ,  0.        ],\n",
              "       [ 0.82737724, -0.25833709, -0.4745452 , ...,  0.        ,\n",
              "         0.        ,  1.        ],\n",
              "       ...,\n",
              "       [ 0.82737724, -0.1046374 ,  0.43279337, ...,  0.        ,\n",
              "         0.        ,  1.        ],\n",
              "       [-1.56610693, -0.25833709, -0.4745452 , ...,  1.        ,\n",
              "         0.        ,  0.        ],\n",
              "       [ 0.82737724,  0.20276197, -0.4745452 , ...,  0.        ,\n",
              "         1.        ,  0.        ]])"
            ]
          },
          "metadata": {},
          "execution_count": 32
        }
      ]
    },
    {
      "cell_type": "code",
      "source": [
        "from sklearn.pipeline import Pipeline\n",
        "\n",
        "preproc = Pipeline ([\n",
        "    ('atributos_desejados', AtributosDesejados()),\n",
        "    ('unecaracteristicas', unecaracteristicas),\n",
        "])\n",
        "\n",
        "Xtratado = preproc.fit_transform(X)\n",
        "Xtratado.toarray()"
      ],
      "metadata": {
        "colab": {
          "base_uri": "https://localhost:8080/"
        },
        "id": "FVu2NzrWNzHa",
        "outputId": "f1611b20-d8eb-4466-eaf4-3ade8e8679c8"
      },
      "execution_count": 33,
      "outputs": [
        {
          "output_type": "execute_result",
          "data": {
            "text/plain": [
              "array([[ 0.82737724, -0.56573646,  0.43279337, ...,  0.        ,\n",
              "         0.        ,  1.        ],\n",
              "       [-1.56610693,  0.66386103,  0.43279337, ...,  1.        ,\n",
              "         0.        ,  0.        ],\n",
              "       [ 0.82737724, -0.25833709, -0.4745452 , ...,  0.        ,\n",
              "         0.        ,  1.        ],\n",
              "       ...,\n",
              "       [ 0.82737724, -0.1046374 ,  0.43279337, ...,  0.        ,\n",
              "         0.        ,  1.        ],\n",
              "       [-1.56610693, -0.25833709, -0.4745452 , ...,  1.        ,\n",
              "         0.        ,  0.        ],\n",
              "       [ 0.82737724,  0.20276197, -0.4745452 , ...,  0.        ,\n",
              "         1.        ,  0.        ]])"
            ]
          },
          "metadata": {},
          "execution_count": 33
        }
      ]
    },
    {
      "cell_type": "code",
      "source": [
        "from sklearn.tree import DecisionTreeClassifier\n",
        "from sklearn.metrics import accuracy_score\n",
        "\n",
        "pipetotal = Pipeline ([\n",
        "    ('preproc', preproc),\n",
        "    ('arvore', DecisionTreeClassifier()),\n",
        "])\n",
        "\n",
        "pipetotal.fit(X, y)\n",
        "ypred = pipetotal.predict(X)\n",
        "accuracy_score(y, ypred)"
      ],
      "metadata": {
        "colab": {
          "base_uri": "https://localhost:8080/"
        },
        "id": "aw5K8O7DOgIp",
        "outputId": "84cdd080-2ab9-4ca7-8237-475abf441cfa"
      },
      "execution_count": 34,
      "outputs": [
        {
          "output_type": "execute_result",
          "data": {
            "text/plain": [
              "0.9797979797979798"
            ]
          },
          "metadata": {},
          "execution_count": 34
        }
      ]
    },
    {
      "cell_type": "code",
      "source": [
        "import numpy as np\n",
        "from sklearn.model_selection import cross_validate\n",
        "\n",
        "scores = cross_validate(pipetotal, X, y)\n",
        "scores, np.mean(scores['test_score'])"
      ],
      "metadata": {
        "colab": {
          "base_uri": "https://localhost:8080/"
        },
        "id": "RoTbzN2NPLPL",
        "outputId": "edada9d9-031a-4307-da65-ecfea5f03da6"
      },
      "execution_count": 35,
      "outputs": [
        {
          "output_type": "execute_result",
          "data": {
            "text/plain": [
              "({'fit_time': array([0.03980112, 0.02663469, 0.29734731, 0.03554058, 0.02906632]),\n",
              "  'score_time': array([0.01173782, 0.01116204, 0.0136137 , 0.01266003, 0.01220155]),\n",
              "  'test_score': array([0.73184358, 0.78651685, 0.79775281, 0.73033708, 0.82022472])},\n",
              " 0.7733350072186304)"
            ]
          },
          "metadata": {},
          "execution_count": 35
        }
      ]
    },
    {
      "cell_type": "code",
      "source": [
        "pipetotal.fit(X, y)\n",
        "ypred = pipetotal.predict(test)\n",
        "\n",
        "submission = pd.read_csv('gender_submission.csv')\n",
        "submission['Survived'] = ypred\n",
        "submission.to_csv('tree_submission.csv', index=False)"
      ],
      "metadata": {
        "id": "4z1qyGToPkJ3"
      },
      "execution_count": 36,
      "outputs": []
    },
    {
      "cell_type": "code",
      "source": [
        "from sklearn.model_selection import GridSearchCV\n",
        "\n",
        "parametros = {\n",
        "    'arvore__max_depth': [None, 1, 3, 5, 7, 9],\n",
        "    'preproc__unecaracteristicas__pipenum__imputer__strategy': ['mean', 'median', 'most_frequent']\n",
        "}\n",
        "\n",
        "modelo = GridSearchCV(pipetotal, param_grid=parametros)\n",
        "\n",
        "scores = cross_validate(modelo, X, y)\n",
        "scores, np.mean(scores['test_score'])"
      ],
      "metadata": {
        "colab": {
          "base_uri": "https://localhost:8080/"
        },
        "id": "-Ldd7oGsQ1Ji",
        "outputId": "f034734c-e8b5-48d6-b29b-13820ad4d27b"
      },
      "execution_count": 38,
      "outputs": [
        {
          "output_type": "execute_result",
          "data": {
            "text/plain": [
              "({'fit_time': array([3.13458705, 2.40811253, 2.3135972 , 2.31649542, 2.40921998]),\n",
              "  'score_time': array([0.00697923, 0.00799537, 0.00684094, 0.00723696, 0.01199269]),\n",
              "  'test_score': array([0.81564246, 0.82022472, 0.81460674, 0.78089888, 0.83146067])},\n",
              " 0.8125666938673028)"
            ]
          },
          "metadata": {},
          "execution_count": 38
        }
      ]
    },
    {
      "cell_type": "code",
      "source": [
        "modelo.fit(X, y)\n",
        "modelo.best_estimator_"
      ],
      "metadata": {
        "colab": {
          "base_uri": "https://localhost:8080/",
          "height": 314
        },
        "id": "FZ2iKO7yTirG",
        "outputId": "c19efa3b-0b2a-44e1-eb8b-a47159377b3d"
      },
      "execution_count": 39,
      "outputs": [
        {
          "output_type": "execute_result",
          "data": {
            "text/plain": [
              "Pipeline(steps=[('preproc',\n",
              "                 Pipeline(steps=[('atributos_desejados', AtributosDesejados()),\n",
              "                                 ('unecaracteristicas',\n",
              "                                  FeatureUnion(transformer_list=[('pipenum',\n",
              "                                                                  Pipeline(steps=[('atributos_numericos',\n",
              "                                                                                   AtributosNumericos()),\n",
              "                                                                                  ('imputer',\n",
              "                                                                                   SimpleImputer(strategy='most_frequent')),\n",
              "                                                                                  ('scaler',\n",
              "                                                                                   StandardScaler())])),\n",
              "                                                                 ('pipecat',\n",
              "                                                                  Pipeline(steps=[('atributos_categoricos',\n",
              "                                                                                   AtributosCategoricos()),\n",
              "                                                                                  ('imputer',\n",
              "                                                                                   SimpleImputer(strategy='most_frequent')),\n",
              "                                                                                  ('encoder',\n",
              "                                                                                   OneHotEncoder())]))]))])),\n",
              "                ('arvore', DecisionTreeClassifier(max_depth=5))])"
            ],
            "text/html": [
              "<style>#sk-container-id-1 {color: black;background-color: white;}#sk-container-id-1 pre{padding: 0;}#sk-container-id-1 div.sk-toggleable {background-color: white;}#sk-container-id-1 label.sk-toggleable__label {cursor: pointer;display: block;width: 100%;margin-bottom: 0;padding: 0.3em;box-sizing: border-box;text-align: center;}#sk-container-id-1 label.sk-toggleable__label-arrow:before {content: \"▸\";float: left;margin-right: 0.25em;color: #696969;}#sk-container-id-1 label.sk-toggleable__label-arrow:hover:before {color: black;}#sk-container-id-1 div.sk-estimator:hover label.sk-toggleable__label-arrow:before {color: black;}#sk-container-id-1 div.sk-toggleable__content {max-height: 0;max-width: 0;overflow: hidden;text-align: left;background-color: #f0f8ff;}#sk-container-id-1 div.sk-toggleable__content pre {margin: 0.2em;color: black;border-radius: 0.25em;background-color: #f0f8ff;}#sk-container-id-1 input.sk-toggleable__control:checked~div.sk-toggleable__content {max-height: 200px;max-width: 100%;overflow: auto;}#sk-container-id-1 input.sk-toggleable__control:checked~label.sk-toggleable__label-arrow:before {content: \"▾\";}#sk-container-id-1 div.sk-estimator input.sk-toggleable__control:checked~label.sk-toggleable__label {background-color: #d4ebff;}#sk-container-id-1 div.sk-label input.sk-toggleable__control:checked~label.sk-toggleable__label {background-color: #d4ebff;}#sk-container-id-1 input.sk-hidden--visually {border: 0;clip: rect(1px 1px 1px 1px);clip: rect(1px, 1px, 1px, 1px);height: 1px;margin: -1px;overflow: hidden;padding: 0;position: absolute;width: 1px;}#sk-container-id-1 div.sk-estimator {font-family: monospace;background-color: #f0f8ff;border: 1px dotted black;border-radius: 0.25em;box-sizing: border-box;margin-bottom: 0.5em;}#sk-container-id-1 div.sk-estimator:hover {background-color: #d4ebff;}#sk-container-id-1 div.sk-parallel-item::after {content: \"\";width: 100%;border-bottom: 1px solid gray;flex-grow: 1;}#sk-container-id-1 div.sk-label:hover label.sk-toggleable__label {background-color: #d4ebff;}#sk-container-id-1 div.sk-serial::before {content: \"\";position: absolute;border-left: 1px solid gray;box-sizing: border-box;top: 0;bottom: 0;left: 50%;z-index: 0;}#sk-container-id-1 div.sk-serial {display: flex;flex-direction: column;align-items: center;background-color: white;padding-right: 0.2em;padding-left: 0.2em;position: relative;}#sk-container-id-1 div.sk-item {position: relative;z-index: 1;}#sk-container-id-1 div.sk-parallel {display: flex;align-items: stretch;justify-content: center;background-color: white;position: relative;}#sk-container-id-1 div.sk-item::before, #sk-container-id-1 div.sk-parallel-item::before {content: \"\";position: absolute;border-left: 1px solid gray;box-sizing: border-box;top: 0;bottom: 0;left: 50%;z-index: -1;}#sk-container-id-1 div.sk-parallel-item {display: flex;flex-direction: column;z-index: 1;position: relative;background-color: white;}#sk-container-id-1 div.sk-parallel-item:first-child::after {align-self: flex-end;width: 50%;}#sk-container-id-1 div.sk-parallel-item:last-child::after {align-self: flex-start;width: 50%;}#sk-container-id-1 div.sk-parallel-item:only-child::after {width: 0;}#sk-container-id-1 div.sk-dashed-wrapped {border: 1px dashed gray;margin: 0 0.4em 0.5em 0.4em;box-sizing: border-box;padding-bottom: 0.4em;background-color: white;}#sk-container-id-1 div.sk-label label {font-family: monospace;font-weight: bold;display: inline-block;line-height: 1.2em;}#sk-container-id-1 div.sk-label-container {text-align: center;}#sk-container-id-1 div.sk-container {/* jupyter's `normalize.less` sets `[hidden] { display: none; }` but bootstrap.min.css set `[hidden] { display: none !important; }` so we also need the `!important` here to be able to override the default hidden behavior on the sphinx rendered scikit-learn.org. See: https://github.com/scikit-learn/scikit-learn/issues/21755 */display: inline-block !important;position: relative;}#sk-container-id-1 div.sk-text-repr-fallback {display: none;}</style><div id=\"sk-container-id-1\" class=\"sk-top-container\"><div class=\"sk-text-repr-fallback\"><pre>Pipeline(steps=[(&#x27;preproc&#x27;,\n",
              "                 Pipeline(steps=[(&#x27;atributos_desejados&#x27;, AtributosDesejados()),\n",
              "                                 (&#x27;unecaracteristicas&#x27;,\n",
              "                                  FeatureUnion(transformer_list=[(&#x27;pipenum&#x27;,\n",
              "                                                                  Pipeline(steps=[(&#x27;atributos_numericos&#x27;,\n",
              "                                                                                   AtributosNumericos()),\n",
              "                                                                                  (&#x27;imputer&#x27;,\n",
              "                                                                                   SimpleImputer(strategy=&#x27;most_frequent&#x27;)),\n",
              "                                                                                  (&#x27;scaler&#x27;,\n",
              "                                                                                   StandardScaler())])),\n",
              "                                                                 (&#x27;pipecat&#x27;,\n",
              "                                                                  Pipeline(steps=[(&#x27;atributos_categoricos&#x27;,\n",
              "                                                                                   AtributosCategoricos()),\n",
              "                                                                                  (&#x27;imputer&#x27;,\n",
              "                                                                                   SimpleImputer(strategy=&#x27;most_frequent&#x27;)),\n",
              "                                                                                  (&#x27;encoder&#x27;,\n",
              "                                                                                   OneHotEncoder())]))]))])),\n",
              "                (&#x27;arvore&#x27;, DecisionTreeClassifier(max_depth=5))])</pre><b>In a Jupyter environment, please rerun this cell to show the HTML representation or trust the notebook. <br />On GitHub, the HTML representation is unable to render, please try loading this page with nbviewer.org.</b></div><div class=\"sk-container\" hidden><div class=\"sk-item sk-dashed-wrapped\"><div class=\"sk-label-container\"><div class=\"sk-label sk-toggleable\"><input class=\"sk-toggleable__control sk-hidden--visually\" id=\"sk-estimator-id-1\" type=\"checkbox\" ><label for=\"sk-estimator-id-1\" class=\"sk-toggleable__label sk-toggleable__label-arrow\">Pipeline</label><div class=\"sk-toggleable__content\"><pre>Pipeline(steps=[(&#x27;preproc&#x27;,\n",
              "                 Pipeline(steps=[(&#x27;atributos_desejados&#x27;, AtributosDesejados()),\n",
              "                                 (&#x27;unecaracteristicas&#x27;,\n",
              "                                  FeatureUnion(transformer_list=[(&#x27;pipenum&#x27;,\n",
              "                                                                  Pipeline(steps=[(&#x27;atributos_numericos&#x27;,\n",
              "                                                                                   AtributosNumericos()),\n",
              "                                                                                  (&#x27;imputer&#x27;,\n",
              "                                                                                   SimpleImputer(strategy=&#x27;most_frequent&#x27;)),\n",
              "                                                                                  (&#x27;scaler&#x27;,\n",
              "                                                                                   StandardScaler())])),\n",
              "                                                                 (&#x27;pipecat&#x27;,\n",
              "                                                                  Pipeline(steps=[(&#x27;atributos_categoricos&#x27;,\n",
              "                                                                                   AtributosCategoricos()),\n",
              "                                                                                  (&#x27;imputer&#x27;,\n",
              "                                                                                   SimpleImputer(strategy=&#x27;most_frequent&#x27;)),\n",
              "                                                                                  (&#x27;encoder&#x27;,\n",
              "                                                                                   OneHotEncoder())]))]))])),\n",
              "                (&#x27;arvore&#x27;, DecisionTreeClassifier(max_depth=5))])</pre></div></div></div><div class=\"sk-serial\"><div class=\"sk-item\"><div class=\"sk-label-container\"><div class=\"sk-label sk-toggleable\"><input class=\"sk-toggleable__control sk-hidden--visually\" id=\"sk-estimator-id-2\" type=\"checkbox\" ><label for=\"sk-estimator-id-2\" class=\"sk-toggleable__label sk-toggleable__label-arrow\">preproc: Pipeline</label><div class=\"sk-toggleable__content\"><pre>Pipeline(steps=[(&#x27;atributos_desejados&#x27;, AtributosDesejados()),\n",
              "                (&#x27;unecaracteristicas&#x27;,\n",
              "                 FeatureUnion(transformer_list=[(&#x27;pipenum&#x27;,\n",
              "                                                 Pipeline(steps=[(&#x27;atributos_numericos&#x27;,\n",
              "                                                                  AtributosNumericos()),\n",
              "                                                                 (&#x27;imputer&#x27;,\n",
              "                                                                  SimpleImputer(strategy=&#x27;most_frequent&#x27;)),\n",
              "                                                                 (&#x27;scaler&#x27;,\n",
              "                                                                  StandardScaler())])),\n",
              "                                                (&#x27;pipecat&#x27;,\n",
              "                                                 Pipeline(steps=[(&#x27;atributos_categoricos&#x27;,\n",
              "                                                                  AtributosCategoricos()),\n",
              "                                                                 (&#x27;imputer&#x27;,\n",
              "                                                                  SimpleImputer(strategy=&#x27;most_frequent&#x27;)),\n",
              "                                                                 (&#x27;encoder&#x27;,\n",
              "                                                                  OneHotEncoder())]))]))])</pre></div></div></div><div class=\"sk-serial\"><div class=\"sk-item\"><div class=\"sk-estimator sk-toggleable\"><input class=\"sk-toggleable__control sk-hidden--visually\" id=\"sk-estimator-id-3\" type=\"checkbox\" ><label for=\"sk-estimator-id-3\" class=\"sk-toggleable__label sk-toggleable__label-arrow\">AtributosDesejados</label><div class=\"sk-toggleable__content\"><pre>AtributosDesejados()</pre></div></div></div><div class=\"sk-item sk-dashed-wrapped\"><div class=\"sk-label-container\"><div class=\"sk-label sk-toggleable\"><input class=\"sk-toggleable__control sk-hidden--visually\" id=\"sk-estimator-id-4\" type=\"checkbox\" ><label for=\"sk-estimator-id-4\" class=\"sk-toggleable__label sk-toggleable__label-arrow\">unecaracteristicas: FeatureUnion</label><div class=\"sk-toggleable__content\"><pre>FeatureUnion(transformer_list=[(&#x27;pipenum&#x27;,\n",
              "                                Pipeline(steps=[(&#x27;atributos_numericos&#x27;,\n",
              "                                                 AtributosNumericos()),\n",
              "                                                (&#x27;imputer&#x27;,\n",
              "                                                 SimpleImputer(strategy=&#x27;most_frequent&#x27;)),\n",
              "                                                (&#x27;scaler&#x27;, StandardScaler())])),\n",
              "                               (&#x27;pipecat&#x27;,\n",
              "                                Pipeline(steps=[(&#x27;atributos_categoricos&#x27;,\n",
              "                                                 AtributosCategoricos()),\n",
              "                                                (&#x27;imputer&#x27;,\n",
              "                                                 SimpleImputer(strategy=&#x27;most_frequent&#x27;)),\n",
              "                                                (&#x27;encoder&#x27;,\n",
              "                                                 OneHotEncoder())]))])</pre></div></div></div><div class=\"sk-parallel\"><div class=\"sk-parallel-item\"><div class=\"sk-item\"><div class=\"sk-label-container\"><div class=\"sk-label sk-toggleable\"><label>pipenum</label></div></div><div class=\"sk-serial\"><div class=\"sk-item\"><div class=\"sk-serial\"><div class=\"sk-item\"><div class=\"sk-estimator sk-toggleable\"><input class=\"sk-toggleable__control sk-hidden--visually\" id=\"sk-estimator-id-5\" type=\"checkbox\" ><label for=\"sk-estimator-id-5\" class=\"sk-toggleable__label sk-toggleable__label-arrow\">AtributosNumericos</label><div class=\"sk-toggleable__content\"><pre>AtributosNumericos()</pre></div></div></div><div class=\"sk-item\"><div class=\"sk-estimator sk-toggleable\"><input class=\"sk-toggleable__control sk-hidden--visually\" id=\"sk-estimator-id-6\" type=\"checkbox\" ><label for=\"sk-estimator-id-6\" class=\"sk-toggleable__label sk-toggleable__label-arrow\">SimpleImputer</label><div class=\"sk-toggleable__content\"><pre>SimpleImputer(strategy=&#x27;most_frequent&#x27;)</pre></div></div></div><div class=\"sk-item\"><div class=\"sk-estimator sk-toggleable\"><input class=\"sk-toggleable__control sk-hidden--visually\" id=\"sk-estimator-id-7\" type=\"checkbox\" ><label for=\"sk-estimator-id-7\" class=\"sk-toggleable__label sk-toggleable__label-arrow\">StandardScaler</label><div class=\"sk-toggleable__content\"><pre>StandardScaler()</pre></div></div></div></div></div></div></div></div><div class=\"sk-parallel-item\"><div class=\"sk-item\"><div class=\"sk-label-container\"><div class=\"sk-label sk-toggleable\"><label>pipecat</label></div></div><div class=\"sk-serial\"><div class=\"sk-item\"><div class=\"sk-serial\"><div class=\"sk-item\"><div class=\"sk-estimator sk-toggleable\"><input class=\"sk-toggleable__control sk-hidden--visually\" id=\"sk-estimator-id-8\" type=\"checkbox\" ><label for=\"sk-estimator-id-8\" class=\"sk-toggleable__label sk-toggleable__label-arrow\">AtributosCategoricos</label><div class=\"sk-toggleable__content\"><pre>AtributosCategoricos()</pre></div></div></div><div class=\"sk-item\"><div class=\"sk-estimator sk-toggleable\"><input class=\"sk-toggleable__control sk-hidden--visually\" id=\"sk-estimator-id-9\" type=\"checkbox\" ><label for=\"sk-estimator-id-9\" class=\"sk-toggleable__label sk-toggleable__label-arrow\">SimpleImputer</label><div class=\"sk-toggleable__content\"><pre>SimpleImputer(strategy=&#x27;most_frequent&#x27;)</pre></div></div></div><div class=\"sk-item\"><div class=\"sk-estimator sk-toggleable\"><input class=\"sk-toggleable__control sk-hidden--visually\" id=\"sk-estimator-id-10\" type=\"checkbox\" ><label for=\"sk-estimator-id-10\" class=\"sk-toggleable__label sk-toggleable__label-arrow\">OneHotEncoder</label><div class=\"sk-toggleable__content\"><pre>OneHotEncoder()</pre></div></div></div></div></div></div></div></div></div></div></div></div><div class=\"sk-item\"><div class=\"sk-estimator sk-toggleable\"><input class=\"sk-toggleable__control sk-hidden--visually\" id=\"sk-estimator-id-11\" type=\"checkbox\" ><label for=\"sk-estimator-id-11\" class=\"sk-toggleable__label sk-toggleable__label-arrow\">DecisionTreeClassifier</label><div class=\"sk-toggleable__content\"><pre>DecisionTreeClassifier(max_depth=5)</pre></div></div></div></div></div></div></div>"
            ]
          },
          "metadata": {},
          "execution_count": 39
        }
      ]
    },
    {
      "cell_type": "code",
      "source": [
        "submission = pd.read_csv('gender_submission.csv')\n",
        "ypred = modelo.predict(test)\n",
        "submission['Survived'] = ypred\n",
        "submission.to_csv('tree_gscv_submission.csv', index=False)"
      ],
      "metadata": {
        "id": "xXLlIgoJTtmi"
      },
      "execution_count": 41,
      "outputs": []
    }
  ]
}